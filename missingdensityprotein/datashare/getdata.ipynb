{
 "cells": [
  {
   "cell_type": "code",
   "execution_count": 1,
   "metadata": {},
   "outputs": [
    {
     "ename": "ModuleNotFoundError",
     "evalue": "No module named 'httplib2'",
     "output_type": "error",
     "traceback": [
      "\u001b[1;31m---------------------------------------------------------------------------\u001b[0m",
      "\u001b[1;31mModuleNotFoundError\u001b[0m                       Traceback (most recent call last)",
      "\u001b[1;32m<ipython-input-1-bed3d7efa313>\u001b[0m in \u001b[0;36m<module>\u001b[1;34m\u001b[0m\n\u001b[1;32m----> 1\u001b[1;33m \u001b[1;32mfrom\u001b[0m \u001b[0mhttplib2\u001b[0m \u001b[1;32mimport\u001b[0m \u001b[0mHttp\u001b[0m\u001b[1;33m\u001b[0m\u001b[1;33m\u001b[0m\u001b[0m\n\u001b[0m\u001b[0;32m      2\u001b[0m \u001b[1;32mfrom\u001b[0m \u001b[0moauth2client\u001b[0m \u001b[1;32mimport\u001b[0m \u001b[0mfile\u001b[0m\u001b[1;33m,\u001b[0m \u001b[0mclient\u001b[0m\u001b[1;33m,\u001b[0m \u001b[0mtools\u001b[0m\u001b[1;33m\u001b[0m\u001b[1;33m\u001b[0m\u001b[0m\n\u001b[0;32m      3\u001b[0m \u001b[1;32mfrom\u001b[0m \u001b[0mapiclient\u001b[0m \u001b[1;32mimport\u001b[0m \u001b[0mdiscovery\u001b[0m\u001b[1;33m\u001b[0m\u001b[1;33m\u001b[0m\u001b[0m\n\u001b[0;32m      4\u001b[0m \u001b[1;32mimport\u001b[0m \u001b[0mrequests\u001b[0m\u001b[1;33m\u001b[0m\u001b[1;33m\u001b[0m\u001b[0m\n\u001b[0;32m      5\u001b[0m \u001b[1;32mimport\u001b[0m \u001b[0mio\u001b[0m\u001b[1;33m\u001b[0m\u001b[1;33m\u001b[0m\u001b[0m\n",
      "\u001b[1;31mModuleNotFoundError\u001b[0m: No module named 'httplib2'"
     ]
    }
   ],
   "source": [
    "from httplib2 import Http\n",
    "from oauth2client import file, client, tools\n",
    "from apiclient import discovery\n",
    "import requests\n",
    "import io\n",
    "import os\n",
    "from googleapiclient.http import MediaIoBaseDownload\n",
    "\n",
    "\n",
    "def get_samples():\n",
    "    \"\"\"\n",
    "    This method can download samples used in example from out drive.\n",
    "    When executing the method, it will prompt a link and an input box.\n",
    "    To get the verification code, you have to click the link and then\n",
    "    choose the google account. Copy the code shown on screen and paste\n",
    "    it to the input box. Then, it will create a token.json and a folder\n",
    "    named ExampleData. There are four csv files in the ExampleData folder.\n",
    "    \"\"\"\n",
    "    credential = 'client_id.json'\n",
    "    url = 'https://github.com/yhchen24/Missing-Density-PDB/\\\n",
    "        raw/master/missingdensityprotein/datashare/client_id.json'\n",
    "    if not os.path.exists(credential):\n",
    "        req = requests.get(url)\n",
    "        with open(credential, 'wb') as f:\n",
    "            f.write(req.content)\n",
    "    obj = lambda: None\n",
    "    lmao = {\"auth_host_name\": 'localhost',\n",
    "            'noauth_local_webserver': 'store_true',\n",
    "            'auth_host_port': [8080, 8090],\n",
    "            'logging_level': 'ERROR'}\n",
    "    for k, v in lmao.items():\n",
    "        setattr(obj, k, v)\n",
    "    SCOPES = 'https://www.googleapis.com/auth/drive.readonly'\n",
    "    store = file.Storage('token.json')\n",
    "    creds = store.get()\n",
    "    if not creds or creds.invalid:\n",
    "        flow = client.flow_from_clientsecrets('client_id.json', SCOPES)\n",
    "        creds = tools.run_flow(flow, store, obj)\n",
    "    DRIVE = discovery.build('drive', 'v3', http=creds.authorize(Http()))\n",
    "    file_id = ['1GXkUZzSUFu0F_tMMI1FtNA42eTiwx_G8',\n",
    "               '1Nl1a5GFam5y9J0V9Nm8uo2hDoMdx9BnI',\n",
    "               '1YwjTZAhtUJwUr54Ao1X40VwUHeCvJ8F7',\n",
    "               '1PQgmaFljME2WaCiTBRUSWdAV70bWRwax',\n",
    "               '1Nk9X6zMeDWDQcDHKTg7FtQCOX9nXe32J',\n",
    "               '1-USFXT-rbCKrrRAyVXZwNgUIyWKFu9JG']\n",
    "    filename = ['headers_1000.csv',\n",
    "                'res_data_1000.csv',\n",
    "                'samples_1000.csv',\n",
    "                'summary_1000.csv',\n",
    "                'small_data',\n",
    "                'all_data']\n",
    "    if not os.path.exists('ExampleData/'):\n",
    "        os.mkdir('ExampleData')\n",
    "    for i in range(len(file_id)):\n",
    "        if not os.path.exists('ExampleData/' + filename[i]):\n",
    "            request = DRIVE.files().get_media(fileId=file_id[i])\n",
    "            fh = io.FileIO('ExampleData/' + filename[i], mode='w')\n",
    "            downloader = MediaIoBaseDownload(fh, request)\n",
    "            done = False\n",
    "            while done is False:\n",
    "                status, done = downloader.next_chunk()\n",
    "    return 'All files exist.'\n"
   ]
  },
  {
   "cell_type": "code",
   "execution_count": 4,
   "metadata": {
    "scrolled": true
   },
   "outputs": [
    {
     "name": "stderr",
     "output_type": "stream",
     "text": [
      "/home/jack/anaconda3/lib/python3.7/site-packages/oauth2client/_helpers.py:255: UserWarning: Cannot access token.json: No such file or directory\n",
      "  warnings.warn(_MISSING_FILE_MESSAGE.format(filename))\n"
     ]
    },
    {
     "name": "stdout",
     "output_type": "stream",
     "text": [
      "\n",
      "Go to the following link in your browser:\n",
      "\n",
      "    https://accounts.google.com/o/oauth2/auth?client_id=108388247154-f05s9sktv5nfidr7meorep4j69ckpqn5.apps.googleusercontent.com&redirect_uri=urn%3Aietf%3Awg%3Aoauth%3A2.0%3Aoob&scope=https%3A%2F%2Fwww.googleapis.com%2Fauth%2Fdrive.readonly&access_type=offline&response_type=code\n",
      "\n",
      "Enter verification code: 4/xgFTnxtghYjfqNOldxWJ5my1gY9PuF5zs7kRMRpn79wr9wdPS0ovzgk\n",
      "Authentication successful.\n"
     ]
    },
    {
     "data": {
      "text/plain": [
       "'All files exist.'"
      ]
     },
     "execution_count": 4,
     "metadata": {},
     "output_type": "execute_result"
    }
   ],
   "source": [
    "get_samples()"
   ]
  },
  {
   "cell_type": "code",
   "execution_count": null,
   "metadata": {},
   "outputs": [],
   "source": []
  }
 ],
 "metadata": {
  "kernelspec": {
   "display_name": "Python 3",
   "language": "python",
   "name": "python3"
  },
  "language_info": {
   "codemirror_mode": {
    "name": "ipython",
    "version": 3
   },
   "file_extension": ".py",
   "mimetype": "text/x-python",
   "name": "python",
   "nbconvert_exporter": "python",
   "pygments_lexer": "ipython3",
   "version": "3.7.4"
  }
 },
 "nbformat": 4,
 "nbformat_minor": 2
}
